{
  "cells": [
    {
      "cell_type": "markdown",
      "metadata": {
        "id": "7SFBFiQlYlva"
      },
      "source": [
        "# Embedded ML - Lab 2.2: TensorFlow Lite"
      ]
    },
    {
      "cell_type": "markdown",
      "metadata": {
        "id": "svldvvGfmN8q"
      },
      "source": [
        "In this lab you will learn the basics of TensorFlow Lite, a complement of TensorFlow that allows you to optimize and run models on constrained devices. It provides a much lighter runtime than TensorFlow but it only supports a subset of the tools available in full TensorFlow.\n",
        "\n",
        "In this lab you might be given some helper functions but you are expected to write most of the code and be able to explain it at a high level of abstraction and also to modify any part of it."
      ]
    },
    {
      "cell_type": "markdown",
      "metadata": {
        "id": "lQK0RRRuY3rJ"
      },
      "source": [
        "### Learning outcomes\n",
        "\n",
        "\n",
        "* Explain the basic concepts associated with TensorFlow Lite\n",
        "* Develop applications following the basic TensorFlow Lite workflow\n",
        "* Implement post-training quantization using TensorFlow Lite tools"
      ]
    },
    {
      "cell_type": "markdown",
      "metadata": {
        "id": "l8wat6Kxul5R"
      },
      "source": [
        "### TensorFlow Lite workflow\n",
        "After having built a TensorFlow model, you can convert it to the TensorFlow Lite representation. Then you can run it with the TensorFlow Lite interpreter on your development environment before exporting it and copying it to the target device.\n",
        "\n",
        "To run the model with TensorFlow Lite you should load the model to the TensorFlow Lite interpreter, allocate the input/output tensors, pass the input data and finally run inference. Notice that TensorFlow Lite API calls are different from those of TensorFlow.\n",
        "\n",
        "In this part of the assignment, you should create and train a simple model (e.g. a one-neuron network) with TensorFlow and then save it. Then follow the TensorFlow Lite workflow until you are able to run inference and validate the outputs."
      ]
    },
    {
      "cell_type": "code",
      "execution_count": 1,
      "metadata": {},
      "outputs": [
        {
          "name": "stderr",
          "output_type": "stream",
          "text": [
            "2025-05-27 15:07:05.932895: I external/local_xla/xla/tsl/cuda/cudart_stub.cc:32] Could not find cuda drivers on your machine, GPU will not be used.\n",
            "2025-05-27 15:07:05.936308: I external/local_xla/xla/tsl/cuda/cudart_stub.cc:32] Could not find cuda drivers on your machine, GPU will not be used.\n",
            "2025-05-27 15:07:05.945242: E external/local_xla/xla/stream_executor/cuda/cuda_fft.cc:467] Unable to register cuFFT factory: Attempting to register factory for plugin cuFFT when one has already been registered\n",
            "WARNING: All log messages before absl::InitializeLog() is called are written to STDERR\n",
            "E0000 00:00:1748358425.959480  102084 cuda_dnn.cc:8579] Unable to register cuDNN factory: Attempting to register factory for plugin cuDNN when one has already been registered\n",
            "E0000 00:00:1748358425.964043  102084 cuda_blas.cc:1407] Unable to register cuBLAS factory: Attempting to register factory for plugin cuBLAS when one has already been registered\n",
            "W0000 00:00:1748358425.976293  102084 computation_placer.cc:177] computation placer already registered. Please check linkage and avoid linking the same target more than once.\n",
            "W0000 00:00:1748358425.976306  102084 computation_placer.cc:177] computation placer already registered. Please check linkage and avoid linking the same target more than once.\n",
            "W0000 00:00:1748358425.976308  102084 computation_placer.cc:177] computation placer already registered. Please check linkage and avoid linking the same target more than once.\n",
            "W0000 00:00:1748358425.976310  102084 computation_placer.cc:177] computation placer already registered. Please check linkage and avoid linking the same target more than once.\n",
            "2025-05-27 15:07:05.980510: I tensorflow/core/platform/cpu_feature_guard.cc:210] This TensorFlow binary is optimized to use available CPU instructions in performance-critical operations.\n",
            "To enable the following instructions: AVX2 FMA, in other operations, rebuild TensorFlow with the appropriate compiler flags.\n"
          ]
        }
      ],
      "source": [
        "#### TENSORFLOW BASIC WORKFLOW\n",
        "import tensorflow as tf\n",
        "from tensorflow import keras\n",
        "from tensorflow.keras import layers\n",
        "import numpy as np\n",
        "import matplotlib.pyplot as plt"
      ]
    },
    {
      "cell_type": "markdown",
      "metadata": {},
      "source": [
        "\n",
        "### Explanation of the XOR Model Creation and Training\n",
        "\n",
        "1. **Model Creation**:\n",
        "    - A sequential model is created using `keras.Sequential`.\n",
        "    - The first layer is a dense layer with 2 neurons, ReLU activation, and an input shape of `(2,)` (representing the two inputs for XOR).\n",
        "    - The second layer is a dense layer with 1 neuron and a sigmoid activation function, which outputs a value between 0 and 1.\n",
        "\n",
        "2. **Model Compilation**:\n",
        "    - The model is compiled with the Adam optimizer, binary cross-entropy loss (suitable for binary classification), and accuracy as the evaluation metric.\n",
        "\n",
        "3. **Data Preparation**:\n",
        "    - Training data (`x_train`) consists of all possible combinations of binary inputs for XOR: `[0, 0], [0, 1], [1, 0], [1, 1]`.\n",
        "    - Corresponding labels (`y_train`) represent the XOR outputs: `[0], [1], [1], [0]`.\n",
        "\n",
        "4. **Model Training**:\n",
        "    - The model is trained on the data for 500 epochs. Increasing the epochs ensures better learning for this simple problem.\n",
        "\n",
        "5. **Model Evaluation**:\n",
        "    - The model is evaluated on the same XOR dataset (`x_test` and `y_test`), and the accuracy is printed.\n",
        "\n",
        "6. **Predictions**:\n",
        "    - The model predicts outputs for the test inputs, and the predictions are printed alongside the actual values.\n",
        "\n",
        "7. **Model Saving**:\n",
        "    - The trained model is saved to a file named `xor_model.keras` for later use.\n"
      ]
    },
    {
      "cell_type": "code",
      "execution_count": 2,
      "metadata": {
        "id": "fs6U9xbNuz3u"
      },
      "outputs": [
        {
          "name": "stderr",
          "output_type": "stream",
          "text": [
            "/home/codespace/.python/current/lib/python3.12/site-packages/keras/src/layers/core/dense.py:87: UserWarning: Do not pass an `input_shape`/`input_dim` argument to a layer. When using Sequential models, prefer using an `Input(shape)` object as the first layer in the model instead.\n",
            "  super().__init__(activity_regularizer=activity_regularizer, **kwargs)\n",
            "2025-05-27 15:07:08.704534: E external/local_xla/xla/stream_executor/cuda/cuda_platform.cc:51] failed call to cuInit: INTERNAL: CUDA error: Failed call to cuInit: UNKNOWN ERROR (303)\n"
          ]
        },
        {
          "name": "stdout",
          "output_type": "stream",
          "text": [
            "Test accuracy: 1.0000\n",
            "\u001b[1m1/1\u001b[0m \u001b[32m━━━━━━━━━━━━━━━━━━━━\u001b[0m\u001b[37m\u001b[0m \u001b[1m0s\u001b[0m 35ms/step\n",
            "Predictions:\n",
            "Input: [0 0], Predicted: [0.4679954], Actual: [0]\n",
            "Input: [0 1], Predicted: [0.5453336], Actual: [1]\n",
            "Input: [1 0], Predicted: [0.5354951], Actual: [1]\n",
            "Input: [1 1], Predicted: [0.4648828], Actual: [0]\n"
          ]
        }
      ],
      "source": [
        "\n",
        "# Create the model for XOR\n",
        "model = keras.Sequential([\n",
        "    layers.Dense(2, activation='relu', input_shape=(2,)),\n",
        "    layers.Dense(1, activation='sigmoid')\n",
        "])\n",
        "\n",
        "# Compile the model\n",
        "model.compile(optimizer='adam',\n",
        "              loss='binary_crossentropy',\n",
        "              metrics=['accuracy'])\n",
        "\n",
        "# Generate some data\n",
        "x_train = np.array([[0, 0], [0, 1], [1, 0], [1, 1]])\n",
        "\n",
        "# Train the model\n",
        "y_train = np.array([[0], [1], [1], [0]])\n",
        "model.fit(x_train, y_train, epochs=500, verbose=0)  # Increased epochs for better training\n",
        "\n",
        "\n",
        "# Evaluate the model\n",
        "x_test = np.array([[0, 0], [0, 1], [1, 0], [1, 1]])\n",
        "y_test = np.array([[0], [1], [1], [0]])\n",
        "loss, accuracy = model.evaluate(x_test, y_test, verbose=0)\n",
        "print(f\"Test accuracy: {accuracy:.4f}\")\n",
        "\n",
        "# Print the predictions\n",
        "predictions = model.predict(x_test)\n",
        "print(\"Predictions:\")\n",
        "for i, pred in enumerate(predictions):\n",
        "    print(f\"Input: {x_test[i]}, Predicted: {pred}, Actual: {y_test[i]}\")\n",
        "\n",
        "\n",
        "# Save the model to a file\n",
        "model.save('xor_model.keras')\n"
      ]
    },
    {
      "cell_type": "markdown",
      "metadata": {},
      "source": [
        "\n",
        "#### TENSORFLOW LITE BASIC WORKFLOW\n",
        "\n",
        "1. **Load the XOR Model**:\n",
        "    - The pre-trained XOR model is loaded from the file `xor_model.keras` using `tf.keras.models.load_model`.\n",
        "\n",
        "2. **Convert the Model to TensorFlow Lite**:\n",
        "    - The loaded model is passed to `tf.lite.TFLiteConverter.from_keras_model` to create a TensorFlow Lite converter.\n",
        "    - The `convert()` method is called on the converter to generate the TensorFlow Lite model.\n",
        "\n",
        "3. **Save the TensorFlow Lite Model**:\n",
        "    - The converted TensorFlow Lite model is saved to a file named `xor_model.tflite` using the `pathlib` library.\n",
        "    - The `write_bytes` method writes the model to the file and returns the size of the file in bytes, which is stored in the variable `write_file`."
      ]
    },
    {
      "cell_type": "code",
      "execution_count": 3,
      "metadata": {
        "id": "OcQ6-6l8sHgz"
      },
      "outputs": [
        {
          "name": "stdout",
          "output_type": "stream",
          "text": [
            "INFO:tensorflow:Assets written to: /tmp/tmpyt_mhu6t/assets\n"
          ]
        },
        {
          "name": "stderr",
          "output_type": "stream",
          "text": [
            "INFO:tensorflow:Assets written to: /tmp/tmpyt_mhu6t/assets\n"
          ]
        },
        {
          "name": "stdout",
          "output_type": "stream",
          "text": [
            "Saved artifact at '/tmp/tmpyt_mhu6t'. The following endpoints are available:\n",
            "\n",
            "* Endpoint 'serve'\n",
            "  args_0 (POSITIONAL_ONLY): TensorSpec(shape=(None, 2), dtype=tf.float32, name='input_layer')\n",
            "Output Type:\n",
            "  TensorSpec(shape=(None, 1), dtype=tf.float32, name=None)\n",
            "Captures:\n",
            "  123646289417168: TensorSpec(shape=(), dtype=tf.resource, name=None)\n",
            "  123646289425040: TensorSpec(shape=(), dtype=tf.resource, name=None)\n",
            "  123646289424848: TensorSpec(shape=(), dtype=tf.resource, name=None)\n",
            "  123646289424656: TensorSpec(shape=(), dtype=tf.resource, name=None)\n"
          ]
        },
        {
          "name": "stderr",
          "output_type": "stream",
          "text": [
            "WARNING: All log messages before absl::InitializeLog() is called are written to STDERR\n",
            "W0000 00:00:1748358441.645349  102084 tf_tfl_flatbuffer_helpers.cc:365] Ignored output_format.\n",
            "W0000 00:00:1748358441.645375  102084 tf_tfl_flatbuffer_helpers.cc:368] Ignored drop_control_dependency.\n",
            "2025-05-27 15:07:21.645670: I tensorflow/cc/saved_model/reader.cc:83] Reading SavedModel from: /tmp/tmpyt_mhu6t\n",
            "2025-05-27 15:07:21.646057: I tensorflow/cc/saved_model/reader.cc:52] Reading meta graph with tags { serve }\n",
            "2025-05-27 15:07:21.646064: I tensorflow/cc/saved_model/reader.cc:147] Reading SavedModel debug info (if present) from: /tmp/tmpyt_mhu6t\n",
            "I0000 00:00:1748358441.648505  102084 mlir_graph_optimization_pass.cc:425] MLIR V1 optimization pass is not enabled\n",
            "2025-05-27 15:07:21.648918: I tensorflow/cc/saved_model/loader.cc:236] Restoring SavedModel bundle.\n",
            "2025-05-27 15:07:21.662452: I tensorflow/cc/saved_model/loader.cc:220] Running initialization op on SavedModel bundle at path: /tmp/tmpyt_mhu6t\n",
            "2025-05-27 15:07:21.666971: I tensorflow/cc/saved_model/loader.cc:471] SavedModel load for tags { serve }; Status: success: OK. Took 21305 microseconds.\n",
            "2025-05-27 15:07:21.674233: I tensorflow/compiler/mlir/tensorflow/utils/dump_mlir_util.cc:269] disabling MLIR crash reproducer, set env var `MLIR_CRASH_REPRODUCER_DIRECTORY` to enable.\n"
          ]
        }
      ],
      "source": [
        "#### TENSORFLOR LITE BASIC WORKFLOW\n",
        "\n",
        "# Load model of the XOR\n",
        "model = tf.keras.models.load_model('xor_model.keras')\n",
        "\n",
        "# Convert model to TF Lite\n",
        "converter = tf.lite.TFLiteConverter.from_keras_model(model)\n",
        "tflite_model = converter.convert()\n",
        "\n",
        "\n",
        "# Save TF Lite model to a file\n",
        "import pathlib\n",
        "tflite_model_path = pathlib.Path('xor_model.tflite')\n",
        "write_file = tflite_model_path.write_bytes(tflite_model)"
      ]
    },
    {
      "cell_type": "markdown",
      "metadata": {},
      "source": [
        "\n",
        "### Explanation: Setting up Input/Output Tensors\n",
        "\n",
        "The line `interpreter = tf.lite.Interpreter(model_content=tflite_model)` initializes a TensorFlow Lite interpreter for the given TensorFlow Lite model. Here's what to do next:\n",
        "\n",
        "1. **Allocate Tensors**:\n",
        "    - Call `interpreter.allocate_tensors()` to allocate memory for the model's input and output tensors.\n",
        "\n",
        "2. **Retrieve Input/Output Details**:\n",
        "    - Use `interpreter.get_input_details()` to get information about the input tensor(s), such as shape, data type, and index.\n",
        "    - Use `interpreter.get_output_details()` to get similar information about the output tensor(s).\n",
        "\n",
        "3. **Set Input Data**:\n",
        "    - Prepare the input data in the format and shape expected by the model (e.g., reshape or normalize if necessary).\n",
        "    - Use `interpreter.set_tensor(input_details[0]['index'], input_data)` to set the input tensor.\n",
        "\n",
        "4. **Run Inference**:\n",
        "    - Call `interpreter.invoke()` to execute the model and perform inference.\n",
        "\n",
        "5. **Retrieve Output Data**:\n",
        "    - Use `interpreter.get_tensor(output_details[0]['index'])` to fetch the output tensor after inference.\n"
      ]
    },
    {
      "cell_type": "code",
      "execution_count": null,
      "metadata": {},
      "outputs": [],
      "source": [
        "# Set up input/output tensors\n",
        "interpreter = tf.lite.Interpreter(model_content=tflite_model)\n"
      ]
    },
    {
      "cell_type": "code",
      "execution_count": 5,
      "metadata": {},
      "outputs": [
        {
          "name": "stdout",
          "output_type": "stream",
          "text": [
            "Requirement already satisfied: ai-edge-litert in /usr/local/python/3.12.1/lib/python3.12/site-packages (1.3.0)\n",
            "Requirement already satisfied: backports.strenum in /usr/local/python/3.12.1/lib/python3.12/site-packages (from ai-edge-litert) (1.2.8)\n",
            "Requirement already satisfied: flatbuffers in /usr/local/python/3.12.1/lib/python3.12/site-packages (from ai-edge-litert) (25.2.10)\n",
            "Requirement already satisfied: numpy>=1.23.2 in /usr/local/python/3.12.1/lib/python3.12/site-packages (from ai-edge-litert) (2.1.3)\n",
            "Requirement already satisfied: tqdm in /usr/local/python/3.12.1/lib/python3.12/site-packages (from ai-edge-litert) (4.67.1)\n",
            "Requirement already satisfied: typing-extensions in /home/codespace/.local/lib/python3.12/site-packages (from ai-edge-litert) (4.12.2)\n",
            "\n",
            "\u001b[1m[\u001b[0m\u001b[34;49mnotice\u001b[0m\u001b[1;39;49m]\u001b[0m\u001b[39;49m A new release of pip is available: \u001b[0m\u001b[31;49m25.0.1\u001b[0m\u001b[39;49m -> \u001b[0m\u001b[32;49m25.1.1\u001b[0m\n",
            "\u001b[1m[\u001b[0m\u001b[34;49mnotice\u001b[0m\u001b[1;39;49m]\u001b[0m\u001b[39;49m To update, run: \u001b[0m\u001b[32;49mpython3 -m pip install --upgrade pip\u001b[0m\n"
          ]
        }
      ],
      "source": [
        "!pip install ai-edge-litert\n",
        "from ai_edge_litert.interpreter import Interpreter\n",
        "interpreter = Interpreter(model_path=tflite_model_path)"
      ]
    },
    {
      "cell_type": "code",
      "execution_count": 6,
      "metadata": {
        "id": "l5bEfUbL89In"
      },
      "outputs": [
        {
          "name": "stdout",
          "output_type": "stream",
          "text": [
            "TF Lite Predictions:\n",
            "Input: [0. 0.], Predicted: 0, Actual: 0\n",
            "Input: [0. 1.], Predicted: 1, Actual: 1\n",
            "Input: [1. 0.], Predicted: 1, Actual: 1\n",
            "Input: [1. 1.], Predicted: 0, Actual: 0\n",
            "TF Lite Model Accuracy: 1.0000\n"
          ]
        },
        {
          "name": "stderr",
          "output_type": "stream",
          "text": [
            "INFO: Created TensorFlow Lite XNNPACK delegate for CPU.\n",
            "/tmp/ipykernel_102084/638531425.py:12: DeprecationWarning: Conversion of an array with ndim > 0 to a scalar is deprecated, and will error in future. Ensure you extract a single element from your array before performing this operation. (Deprecated NumPy 1.25.)\n",
            "  return int(output_data[0])\n"
          ]
        }
      ],
      "source": [
        "#Allocate tensors on the interpreter\n",
        "interpreter.allocate_tensors()\n",
        "\n",
        "# Set input values and output memory \n",
        "input_details = interpreter.get_input_details()\n",
        "output_details = interpreter.get_output_details()\n",
        "\n",
        "test_input = np.array([[0, 0], [0, 1], [1, 0], [1, 1]], dtype=np.float32)\n",
        "\n",
        "print(\"TF Lite Predictions:\")\n",
        "def new_func(output_data):\n",
        "    return int(output_data[0])\n",
        "\n",
        "correct_predictions = 0\n",
        "\n",
        "for i, single_input in enumerate(test_input):\n",
        "    # Reshape input to match the expected shape (batch size of 1)\n",
        "    single_input = single_input.reshape(1, -1)\n",
        "    interpreter.set_tensor(input_details[0]['index'], single_input)\n",
        "\n",
        "    # Run inference\n",
        "    interpreter.invoke()\n",
        "\n",
        "    # Get outputs\n",
        "    output_data = interpreter.get_tensor(output_details[0]['index'])\n",
        "    print(f\"Input: {single_input[0]}, Predicted: {new_func(np.round(output_data))}, Actual: {y_test[i][0]}\")\n",
        "\n",
        "    # Check if the prediction is correct\n",
        "    if np.round(output_data) == y_test[i][0]:\n",
        "        correct_predictions += 1\n",
        "\n",
        "# Accuracy\n",
        "accuracy = correct_predictions / len(test_input)\n",
        "print(f\"TF Lite Model Accuracy: {accuracy:.4f}\")\n",
        "\n",
        "    "
      ]
    },
    {
      "cell_type": "markdown",
      "metadata": {
        "id": "xpPgM38-6tFQ"
      },
      "source": [
        "### Vision model with TensorFlow Lite\n",
        "\n",
        "In this part of the assignment, you should import a small pre-trained model for a vision application that takes at most 1 MB. Then you should follow the TensorFlow Lite workflow until you are able to run inference and obtain the same results as with TensorFlow."
      ]
    },
    {
      "cell_type": "code",
      "execution_count": 7,
      "metadata": {},
      "outputs": [
        {
          "name": "stdout",
          "output_type": "stream",
          "text": [
            "INFO:tensorflow:Assets written to: /tmp/tmpiba4tk13/assets\n"
          ]
        },
        {
          "name": "stderr",
          "output_type": "stream",
          "text": [
            "INFO:tensorflow:Assets written to: /tmp/tmpiba4tk13/assets\n"
          ]
        },
        {
          "name": "stdout",
          "output_type": "stream",
          "text": [
            "Saved artifact at '/tmp/tmpiba4tk13'. The following endpoints are available:\n",
            "\n",
            "* Endpoint 'serve'\n",
            "  args_0 (POSITIONAL_ONLY): TensorSpec(shape=(None, 28, 28, 1), dtype=tf.float32, name='input_layer_6')\n",
            "Output Type:\n",
            "  TensorSpec(shape=(None, 10), dtype=tf.float32, name=None)\n",
            "Captures:\n",
            "  123646274321680: TensorSpec(shape=(), dtype=tf.resource, name=None)\n",
            "  123646274320144: TensorSpec(shape=(), dtype=tf.resource, name=None)\n",
            "  123646138582224: TensorSpec(shape=(), dtype=tf.resource, name=None)\n",
            "  123646138583760: TensorSpec(shape=(), dtype=tf.resource, name=None)\n",
            "  123646138583184: TensorSpec(shape=(), dtype=tf.resource, name=None)\n",
            "  123646138584528: TensorSpec(shape=(), dtype=tf.resource, name=None)\n",
            "  123646138583952: TensorSpec(shape=(), dtype=tf.resource, name=None)\n",
            "  123646138585296: TensorSpec(shape=(), dtype=tf.resource, name=None)\n"
          ]
        },
        {
          "name": "stderr",
          "output_type": "stream",
          "text": [
            "W0000 00:00:1748358443.212640  102084 tf_tfl_flatbuffer_helpers.cc:365] Ignored output_format.\n",
            "W0000 00:00:1748358443.212658  102084 tf_tfl_flatbuffer_helpers.cc:368] Ignored drop_control_dependency.\n",
            "2025-05-27 15:07:23.212817: I tensorflow/cc/saved_model/reader.cc:83] Reading SavedModel from: /tmp/tmpiba4tk13\n",
            "2025-05-27 15:07:23.213241: I tensorflow/cc/saved_model/reader.cc:52] Reading meta graph with tags { serve }\n",
            "2025-05-27 15:07:23.213249: I tensorflow/cc/saved_model/reader.cc:147] Reading SavedModel debug info (if present) from: /tmp/tmpiba4tk13\n",
            "2025-05-27 15:07:23.216985: I tensorflow/cc/saved_model/loader.cc:236] Restoring SavedModel bundle.\n",
            "2025-05-27 15:07:23.240639: I tensorflow/cc/saved_model/loader.cc:220] Running initialization op on SavedModel bundle at path: /tmp/tmpiba4tk13\n",
            "2025-05-27 15:07:23.247819: I tensorflow/cc/saved_model/loader.cc:471] SavedModel load for tags { serve }; Status: success: OK. Took 35006 microseconds.\n"
          ]
        }
      ],
      "source": [
        "# Load the model ccn_model.keras\n",
        "model_cnn = tf.keras.models.load_model('cnn_model.keras')\n",
        "# Convert model to TF Lite\n",
        "converter_cnn = tf.lite.TFLiteConverter.from_keras_model(model_cnn)\n",
        "tflite_model_cnn = converter_cnn.convert()\n",
        "\n",
        "# Save TF Lite model to a file\n",
        "tflite_model_cnn_path = pathlib.Path('ccn_model.tflite')\n",
        "write_file_cnn = tflite_model_cnn_path.write_bytes(tflite_model_cnn)\n",
        "\n",
        "# Set up input/output tensors\n",
        "interpreter_cnn = Interpreter(model_path=tflite_model_cnn_path)\n",
        "interpreter_cnn.allocate_tensors()\n",
        "# Set input values and output memory\n",
        "input_details_cnn = interpreter_cnn.get_input_details()\n",
        "output_details_cnn = interpreter_cnn.get_output_details()\n"
      ]
    },
    {
      "cell_type": "markdown",
      "metadata": {},
      "source": [
        "\n",
        "### Loading and Preprocessing the MNIST Fashion Dataset\n",
        "\n",
        "1. **Dataset Loading**:\n",
        "    - The MNIST Fashion dataset is loaded using `keras.datasets.fashion_mnist`.\n",
        "    - This dataset contains grayscale images of size 28x28 representing 10 classes of fashion items (e.g., shirts, shoes, bags).\n",
        "\n",
        "2. **Splitting the Dataset**:\n",
        "    - The dataset is split into training (`x_train`, `y_train`) and testing (`x_test`, `y_test`) sets.\n",
        "\n",
        "3. **Normalization**:\n",
        "    - The pixel values of the test images (`x_test`) are normalized by dividing by 255.0 to scale them to the range [0, 1]. This helps improve model performance during inference.\n",
        "\n",
        "4. **Data Type Conversion**:\n",
        "    - The normalized test images (`x_test`) are converted to `float32` for compatibility with TensorFlow Lite models.\n",
        "    - The test labels (`y_test`) are converted to `int32` to match the expected data type for classification tasks.\n",
        "\n",
        "5. **Subset Selection**:\n",
        "    - Only the first 100 samples from the test set are selected for testing to reduce computational overhead.\n",
        "\n",
        "6. **Memory Optimization**:\n",
        "    - The training data (`x_train`, `y_train`) is deleted using `del` to free up memory, as it is not needed for this testing workflow."
      ]
    },
    {
      "cell_type": "code",
      "execution_count": 8,
      "metadata": {},
      "outputs": [],
      "source": [
        "#Load a test dataset MNIST Fashion (Only for testing)\n",
        "mnist = keras.datasets.fashion_mnist\n",
        "(x_train, y_train), (x_test, y_test) = mnist.load_data()\n",
        "x_test = x_test / 255.0\n",
        "x_test = x_test.astype(np.float32)\n",
        "y_test = y_test.astype(np.int32)\n",
        "\n",
        "# Only use 100 samples for testing\n",
        "x_test = x_test[:100]\n",
        "y_test = y_test[:100]\n",
        "\n",
        "# Free memory of x_train and y_train\n",
        "del x_train\n",
        "del y_train"
      ]
    },
    {
      "cell_type": "code",
      "execution_count": 9,
      "metadata": {},
      "outputs": [
        {
          "name": "stdout",
          "output_type": "stream",
          "text": [
            "Input details: [{'name': 'serving_default_input_layer_6:0', 'index': 0, 'shape': array([ 1, 28, 28,  1], dtype=int32), 'shape_signature': array([-1, 28, 28,  1], dtype=int32), 'dtype': <class 'numpy.float32'>, 'quantization': (0.0, 0), 'quantization_parameters': {'scales': array([], dtype=float32), 'zero_points': array([], dtype=int32), 'quantized_dimension': 0}, 'sparsity_parameters': {}}]\n",
            "Output details: [{'name': 'StatefulPartitionedCall_1:0', 'index': 17, 'shape': array([ 1, 10], dtype=int32), 'shape_signature': array([-1, 10], dtype=int32), 'dtype': <class 'numpy.float32'>, 'quantization': (0.0, 0), 'quantization_parameters': {'scales': array([], dtype=float32), 'zero_points': array([], dtype=int32), 'quantized_dimension': 0}, 'sparsity_parameters': {}}]\n",
            "Input shape: [ 1 28 28  1]\n"
          ]
        }
      ],
      "source": [
        "#Show the format of input and output details of the model\n",
        "print(\"Input details:\", input_details_cnn)\n",
        "print(\"Output details:\", output_details_cnn)\n",
        "\n",
        "# Get the input shape\n",
        "input_shape_cnn = input_details_cnn[0]['shape']\n",
        "print(\"Input shape:\", input_shape_cnn)"
      ]
    },
    {
      "cell_type": "markdown",
      "metadata": {},
      "source": [
        "### Explanation of the Code\n",
        "\n",
        "1. **Initialization**: Sets up `correct_predictions_cnn` and prints a header.\n",
        "2. **Helper Function**: `idex_func` returns the predicted class using `np.argmax`.\n",
        "3. **Iterate Test Data**: Loops through `x_test` and reshapes inputs to match model requirements.\n",
        "4. **Set Input Tensor**: Uses `interpreter_cnn.set_tensor` to set input data.\n",
        "5. **Run Inference**: Calls `interpreter_cnn.invoke()` to perform inference.\n",
        "6. **Get Output**: Retrieves predictions using `interpreter_cnn.get_tensor`.\n",
        "7. **Print Predictions**: Displays input index, predicted, and actual class.\n",
        "8. **Check Accuracy**: Compares predictions with `y_test` and updates `correct_predictions_cnn`.\n",
        "9. **Calculate Accuracy**: Computes accuracy as correct predictions divided by total samples.\n",
        "10. **Print Accuracy**: Outputs the final accuracy of the model.\n"
      ]
    },
    {
      "cell_type": "code",
      "execution_count": 14,
      "metadata": {},
      "outputs": [
        {
          "name": "stdout",
          "output_type": "stream",
          "text": [
            "TF Lite CNN Predictions:\n",
            "Input: 0, Predicted: 9, Actual: 9\n",
            "Input: 1, Predicted: 2, Actual: 2\n",
            "Input: 2, Predicted: 1, Actual: 1\n",
            "Input: 3, Predicted: 1, Actual: 1\n",
            "Input: 4, Predicted: 6, Actual: 6\n",
            "Input: 5, Predicted: 1, Actual: 1\n",
            "Input: 6, Predicted: 4, Actual: 4\n",
            "Input: 7, Predicted: 4, Actual: 6\n",
            "Input: 8, Predicted: 5, Actual: 5\n",
            "Input: 9, Predicted: 7, Actual: 7\n",
            "Input: 10, Predicted: 4, Actual: 4\n",
            "Input: 11, Predicted: 5, Actual: 5\n",
            "Input: 12, Predicted: 7, Actual: 7\n",
            "Input: 13, Predicted: 3, Actual: 3\n",
            "Input: 14, Predicted: 4, Actual: 4\n",
            "Input: 15, Predicted: 1, Actual: 1\n",
            "Input: 16, Predicted: 2, Actual: 2\n",
            "Input: 17, Predicted: 4, Actual: 4\n",
            "Input: 18, Predicted: 8, Actual: 8\n",
            "Input: 19, Predicted: 0, Actual: 0\n",
            "Input: 20, Predicted: 2, Actual: 2\n",
            "Input: 21, Predicted: 7, Actual: 5\n",
            "Input: 22, Predicted: 7, Actual: 7\n",
            "Input: 23, Predicted: 5, Actual: 9\n",
            "Input: 24, Predicted: 1, Actual: 1\n",
            "Input: 25, Predicted: 4, Actual: 4\n",
            "Input: 26, Predicted: 4, Actual: 6\n",
            "Input: 27, Predicted: 0, Actual: 0\n",
            "Input: 28, Predicted: 9, Actual: 9\n",
            "Input: 29, Predicted: 4, Actual: 3\n",
            "Input: 30, Predicted: 8, Actual: 8\n",
            "Input: 31, Predicted: 8, Actual: 8\n",
            "Input: 32, Predicted: 4, Actual: 3\n",
            "Input: 33, Predicted: 3, Actual: 3\n",
            "Input: 34, Predicted: 2, Actual: 8\n",
            "Input: 35, Predicted: 0, Actual: 0\n",
            "Input: 36, Predicted: 7, Actual: 7\n",
            "Input: 37, Predicted: 5, Actual: 5\n",
            "Input: 38, Predicted: 7, Actual: 7\n",
            "Input: 39, Predicted: 9, Actual: 9\n",
            "Input: 40, Predicted: 6, Actual: 6\n",
            "Input: 41, Predicted: 1, Actual: 1\n",
            "Input: 42, Predicted: 0, Actual: 3\n",
            "Input: 43, Predicted: 9, Actual: 7\n",
            "Input: 44, Predicted: 4, Actual: 6\n",
            "Input: 45, Predicted: 7, Actual: 7\n",
            "Input: 46, Predicted: 2, Actual: 2\n",
            "Input: 47, Predicted: 1, Actual: 1\n",
            "Input: 48, Predicted: 4, Actual: 2\n",
            "Input: 49, Predicted: 6, Actual: 2\n",
            "Input: 50, Predicted: 4, Actual: 4\n",
            "Input: 51, Predicted: 4, Actual: 4\n",
            "Input: 52, Predicted: 5, Actual: 5\n",
            "Input: 53, Predicted: 8, Actual: 8\n",
            "Input: 54, Predicted: 2, Actual: 2\n",
            "Input: 55, Predicted: 6, Actual: 2\n",
            "Input: 56, Predicted: 8, Actual: 8\n",
            "Input: 57, Predicted: 6, Actual: 4\n",
            "Input: 58, Predicted: 8, Actual: 8\n",
            "Input: 59, Predicted: 0, Actual: 0\n",
            "Input: 60, Predicted: 7, Actual: 7\n",
            "Input: 61, Predicted: 7, Actual: 7\n",
            "Input: 62, Predicted: 4, Actual: 8\n",
            "Input: 63, Predicted: 5, Actual: 5\n",
            "Input: 64, Predicted: 1, Actual: 1\n",
            "Input: 65, Predicted: 1, Actual: 1\n",
            "Input: 66, Predicted: 4, Actual: 2\n",
            "Input: 67, Predicted: 4, Actual: 3\n",
            "Input: 68, Predicted: 7, Actual: 9\n",
            "Input: 69, Predicted: 8, Actual: 8\n",
            "Input: 70, Predicted: 7, Actual: 7\n",
            "Input: 71, Predicted: 0, Actual: 0\n",
            "Input: 72, Predicted: 2, Actual: 2\n",
            "Input: 73, Predicted: 0, Actual: 6\n",
            "Input: 74, Predicted: 4, Actual: 2\n",
            "Input: 75, Predicted: 4, Actual: 3\n",
            "Input: 76, Predicted: 1, Actual: 1\n",
            "Input: 77, Predicted: 2, Actual: 2\n",
            "Input: 78, Predicted: 8, Actual: 8\n",
            "Input: 79, Predicted: 4, Actual: 4\n",
            "Input: 80, Predicted: 1, Actual: 1\n",
            "Input: 81, Predicted: 8, Actual: 8\n",
            "Input: 82, Predicted: 5, Actual: 5\n",
            "Input: 83, Predicted: 9, Actual: 9\n",
            "Input: 84, Predicted: 5, Actual: 5\n",
            "Input: 85, Predicted: 0, Actual: 0\n",
            "Input: 86, Predicted: 3, Actual: 3\n",
            "Input: 87, Predicted: 2, Actual: 2\n",
            "Input: 88, Predicted: 0, Actual: 0\n",
            "Input: 89, Predicted: 6, Actual: 6\n",
            "Input: 90, Predicted: 5, Actual: 5\n",
            "Input: 91, Predicted: 3, Actual: 3\n",
            "Input: 92, Predicted: 6, Actual: 6\n",
            "Input: 93, Predicted: 7, Actual: 7\n",
            "Input: 94, Predicted: 1, Actual: 1\n",
            "Input: 95, Predicted: 8, Actual: 8\n",
            "Input: 96, Predicted: 0, Actual: 0\n",
            "Input: 97, Predicted: 1, Actual: 1\n",
            "Input: 98, Predicted: 4, Actual: 4\n",
            "Input: 99, Predicted: 2, Actual: 2\n",
            "TF Lite CNN Model Accuracy: 0.7900\n"
          ]
        }
      ],
      "source": [
        "correct_predictions_cnn = 0\n",
        "print(\"TF Lite CNN Predictions:\")\n",
        "\n",
        "def idex_func(output_data):\n",
        "    return np.argmax(output_data[0])\n",
        "\n",
        "for i, single_input in enumerate(x_test):\n",
        "    # Reshape input to match the expected shape (batch size of 1)\n",
        "    single_input = single_input.reshape(1, 28, 28, 1)\n",
        "    interpreter_cnn.set_tensor(input_details_cnn[0]['index'], single_input)\n",
        "\n",
        "    # Run inference\n",
        "    interpreter_cnn.invoke()\n",
        "\n",
        "    # Get outputs\n",
        "    output_data = interpreter_cnn.get_tensor(output_details_cnn[0]['index'])\n",
        "    print(f\"Input: {i}, Predicted: {idex_func(output_data)}, Actual: {y_test[i]}\")\n",
        "\n",
        "    # Check if the prediction is correct\n",
        "    if idex_func(output_data) == y_test[i]:\n",
        "        correct_predictions_cnn += 1\n",
        "\n",
        "# Accuracy\n",
        "accuracy_cnn = correct_predictions_cnn / len(y_test)\n",
        "print(f\"TF Lite CNN Model Accuracy: {accuracy_cnn:.4f}\")"
      ]
    },
    {
      "cell_type": "markdown",
      "metadata": {
        "id": "T25pOIS7kcym"
      },
      "source": [
        "### Post-training quantization\n",
        "Finally, in this part of the assignment you should activate quantization and convert the model again. Compare model size and accuracy of the compressed TensorFlow Lite model by using various configurations (investigate how) and against the uncompressed baseline."
      ]
    },
    {
      "cell_type": "markdown",
      "metadata": {},
      "source": [
        "\n",
        "### Quantization Workflow for TensorFlow Lite CNN Model\n",
        "\n",
        "1. **Enable Default Optimizations**:\n",
        "    - `converter_cnn.optimizations = [tf.lite.Optimize.DEFAULT]` enables default optimizations during the conversion process, such as reducing model size and improving inference speed.\n",
        "\n",
        "2. **Specify Input and Output Data Types**:\n",
        "    - `converter_cnn.inference_input_type = tf.int8` and `converter_cnn.inference_output_type = tf.int8` specify that both the input and output tensors of the quantized model should use 8-bit integers (`int8`), which is more efficient for constrained devices.\n",
        "\n",
        "3. **Representative Dataset**:\n",
        "    - A representative dataset is required to determine the quantization parameters (scale and zero-point) for each layer.\n",
        "    - The `representative_data_gen` function generates representative samples from `x_test` by reshaping them to match the input shape of the model (`[1, 28, 28, 1]`).\n",
        "\n",
        "4. **Restrict Operations to INT8**:\n",
        "    - `converter_cnn.target_spec.supported_ops = [tf.lite.OpsSet.TFLITE_BUILTINS_INT8]` ensures that all operations in the model are restricted to `int8` for compatibility with hardware accelerators that support integer-only inference.\n",
        "\n",
        "5. **Convert and Save the Quantized Model**:\n",
        "    - The `convert()` method generates the quantized TensorFlow Lite model.\n",
        "    - The model is saved to a file named `quantized_cnn_model.tflite` using `pathlib`.\n",
        "\n",
        "6. **Load and Allocate Tensors**:\n",
        "    - The quantized model is loaded into a TensorFlow Lite interpreter using `Interpreter`.\n",
        "    - `allocate_tensors()` allocates memory for the input and output tensors.\n",
        "\n",
        "7. **Retrieve Input/Output Details**:\n",
        "    - `quantized_input_details_cnn` and `quantized_output_details_cnn` store metadata about the input and output tensors, such as shape, data type, and quantization parameters.\n",
        "\n",
        "8. **Test the Quantized Model**:\n",
        "    - For each test sample in `x_test`:\n",
        "        - The sample is reshaped to match the input shape.\n",
        "        - The sample is quantized to `int8` using the scale and zero-point from `quantized_input_details_cnn`.\n",
        "        - The quantized input is set using `set_tensor`, and inference is performed using `invoke()`.\n",
        "        - The output tensor is retrieved and the predicted class is determined using `idex_func`.\n",
        "\n",
        "9. **Compute Accuracy**:\n",
        "    - The predicted class is compared with the actual label from `y_test`.\n",
        "    - The number of correct predictions is counted, and the accuracy is calculated as the ratio of correct predictions to the total number of samples.\n",
        "\n",
        "10. **Print Results**:\n",
        "    - The predictions for each sample and the overall accuracy of the quantized model are printed.\n"
      ]
    },
    {
      "cell_type": "code",
      "execution_count": 35,
      "metadata": {},
      "outputs": [
        {
          "name": "stdout",
          "output_type": "stream",
          "text": [
            "INFO:tensorflow:Assets written to: /tmp/tmp9doe5pm4/assets\n"
          ]
        },
        {
          "name": "stderr",
          "output_type": "stream",
          "text": [
            "INFO:tensorflow:Assets written to: /tmp/tmp9doe5pm4/assets\n"
          ]
        },
        {
          "name": "stdout",
          "output_type": "stream",
          "text": [
            "Saved artifact at '/tmp/tmp9doe5pm4'. The following endpoints are available:\n",
            "\n",
            "* Endpoint 'serve'\n",
            "  args_0 (POSITIONAL_ONLY): TensorSpec(shape=(None, 28, 28, 1), dtype=tf.float32, name='input_layer_6')\n",
            "Output Type:\n",
            "  TensorSpec(shape=(None, 10), dtype=tf.float32, name=None)\n",
            "Captures:\n",
            "  123646274321680: TensorSpec(shape=(), dtype=tf.resource, name=None)\n",
            "  123646274320144: TensorSpec(shape=(), dtype=tf.resource, name=None)\n",
            "  123646138582224: TensorSpec(shape=(), dtype=tf.resource, name=None)\n",
            "  123646138583760: TensorSpec(shape=(), dtype=tf.resource, name=None)\n",
            "  123646138583184: TensorSpec(shape=(), dtype=tf.resource, name=None)\n",
            "  123646138584528: TensorSpec(shape=(), dtype=tf.resource, name=None)\n",
            "  123646138583952: TensorSpec(shape=(), dtype=tf.resource, name=None)\n",
            "  123646138585296: TensorSpec(shape=(), dtype=tf.resource, name=None)\n"
          ]
        },
        {
          "name": "stderr",
          "output_type": "stream",
          "text": [
            "/home/codespace/.python/current/lib/python3.12/site-packages/tensorflow/lite/python/convert.py:854: UserWarning: Statistics for quantized inputs were expected, but not specified; continuing anyway.\n",
            "  warnings.warn(\n",
            "W0000 00:00:1748360803.236176  102084 tf_tfl_flatbuffer_helpers.cc:365] Ignored output_format.\n",
            "W0000 00:00:1748360803.236197  102084 tf_tfl_flatbuffer_helpers.cc:368] Ignored drop_control_dependency.\n",
            "2025-05-27 15:46:43.236340: I tensorflow/cc/saved_model/reader.cc:83] Reading SavedModel from: /tmp/tmp9doe5pm4\n",
            "2025-05-27 15:46:43.236793: I tensorflow/cc/saved_model/reader.cc:52] Reading meta graph with tags { serve }\n",
            "2025-05-27 15:46:43.236800: I tensorflow/cc/saved_model/reader.cc:147] Reading SavedModel debug info (if present) from: /tmp/tmp9doe5pm4\n",
            "2025-05-27 15:46:43.240736: I tensorflow/cc/saved_model/loader.cc:236] Restoring SavedModel bundle.\n",
            "2025-05-27 15:46:43.263412: I tensorflow/cc/saved_model/loader.cc:220] Running initialization op on SavedModel bundle at path: /tmp/tmp9doe5pm4\n",
            "2025-05-27 15:46:43.271909: I tensorflow/cc/saved_model/loader.cc:471] SavedModel load for tags { serve }; Status: success: OK. Took 35572 microseconds.\n",
            "fully_quantize: 0, inference_type: 6, input_inference_type: INT8, output_inference_type: INT8\n"
          ]
        },
        {
          "name": "stdout",
          "output_type": "stream",
          "text": [
            "Quantized TF Lite CNN Predictions:\n",
            "Input: 0, Predicted: 9, Actual: 9\n",
            "Input: 1, Predicted: 2, Actual: 2\n",
            "Input: 2, Predicted: 1, Actual: 1\n",
            "Input: 3, Predicted: 1, Actual: 1\n",
            "Input: 4, Predicted: 6, Actual: 6\n",
            "Input: 5, Predicted: 1, Actual: 1\n",
            "Input: 6, Predicted: 4, Actual: 4\n",
            "Input: 7, Predicted: 4, Actual: 6\n",
            "Input: 8, Predicted: 5, Actual: 5\n",
            "Input: 9, Predicted: 7, Actual: 7\n",
            "Input: 10, Predicted: 4, Actual: 4\n",
            "Input: 11, Predicted: 5, Actual: 5\n",
            "Input: 12, Predicted: 7, Actual: 7\n",
            "Input: 13, Predicted: 3, Actual: 3\n",
            "Input: 14, Predicted: 4, Actual: 4\n",
            "Input: 15, Predicted: 1, Actual: 1\n",
            "Input: 16, Predicted: 2, Actual: 2\n",
            "Input: 17, Predicted: 4, Actual: 4\n",
            "Input: 18, Predicted: 8, Actual: 8\n",
            "Input: 19, Predicted: 0, Actual: 0\n",
            "Input: 20, Predicted: 2, Actual: 2\n",
            "Input: 21, Predicted: 7, Actual: 5\n",
            "Input: 22, Predicted: 7, Actual: 7\n",
            "Input: 23, Predicted: 5, Actual: 9\n",
            "Input: 24, Predicted: 1, Actual: 1\n",
            "Input: 25, Predicted: 4, Actual: 4\n",
            "Input: 26, Predicted: 4, Actual: 6\n",
            "Input: 27, Predicted: 0, Actual: 0\n",
            "Input: 28, Predicted: 9, Actual: 9\n",
            "Input: 29, Predicted: 4, Actual: 3\n",
            "Input: 30, Predicted: 8, Actual: 8\n",
            "Input: 31, Predicted: 8, Actual: 8\n",
            "Input: 32, Predicted: 4, Actual: 3\n",
            "Input: 33, Predicted: 3, Actual: 3\n",
            "Input: 34, Predicted: 2, Actual: 8\n",
            "Input: 35, Predicted: 0, Actual: 0\n",
            "Input: 36, Predicted: 7, Actual: 7\n",
            "Input: 37, Predicted: 5, Actual: 5\n",
            "Input: 38, Predicted: 7, Actual: 7\n",
            "Input: 39, Predicted: 9, Actual: 9\n",
            "Input: 40, Predicted: 6, Actual: 6\n",
            "Input: 41, Predicted: 1, Actual: 1\n",
            "Input: 42, Predicted: 0, Actual: 3\n",
            "Input: 43, Predicted: 9, Actual: 7\n",
            "Input: 44, Predicted: 4, Actual: 6\n",
            "Input: 45, Predicted: 7, Actual: 7\n",
            "Input: 46, Predicted: 2, Actual: 2\n",
            "Input: 47, Predicted: 1, Actual: 1\n",
            "Input: 48, Predicted: 4, Actual: 2\n",
            "Input: 49, Predicted: 6, Actual: 2\n",
            "Input: 50, Predicted: 4, Actual: 4\n",
            "Input: 51, Predicted: 4, Actual: 4\n",
            "Input: 52, Predicted: 5, Actual: 5\n",
            "Input: 53, Predicted: 8, Actual: 8\n",
            "Input: 54, Predicted: 2, Actual: 2\n",
            "Input: 55, Predicted: 6, Actual: 2\n",
            "Input: 56, Predicted: 8, Actual: 8\n",
            "Input: 57, Predicted: 6, Actual: 4\n",
            "Input: 58, Predicted: 8, Actual: 8\n",
            "Input: 59, Predicted: 0, Actual: 0\n",
            "Input: 60, Predicted: 7, Actual: 7\n",
            "Input: 61, Predicted: 7, Actual: 7\n",
            "Input: 62, Predicted: 4, Actual: 8\n",
            "Input: 63, Predicted: 5, Actual: 5\n",
            "Input: 64, Predicted: 1, Actual: 1\n",
            "Input: 65, Predicted: 1, Actual: 1\n",
            "Input: 66, Predicted: 4, Actual: 2\n",
            "Input: 67, Predicted: 4, Actual: 3\n",
            "Input: 68, Predicted: 7, Actual: 9\n",
            "Input: 69, Predicted: 8, Actual: 8\n",
            "Input: 70, Predicted: 7, Actual: 7\n",
            "Input: 71, Predicted: 0, Actual: 0\n",
            "Input: 72, Predicted: 2, Actual: 2\n",
            "Input: 73, Predicted: 0, Actual: 6\n",
            "Input: 74, Predicted: 4, Actual: 2\n",
            "Input: 75, Predicted: 4, Actual: 3\n",
            "Input: 76, Predicted: 1, Actual: 1\n",
            "Input: 77, Predicted: 2, Actual: 2\n",
            "Input: 78, Predicted: 8, Actual: 8\n",
            "Input: 79, Predicted: 4, Actual: 4\n",
            "Input: 80, Predicted: 1, Actual: 1\n",
            "Input: 81, Predicted: 8, Actual: 8\n",
            "Input: 82, Predicted: 5, Actual: 5\n",
            "Input: 83, Predicted: 9, Actual: 9\n",
            "Input: 84, Predicted: 5, Actual: 5\n",
            "Input: 85, Predicted: 0, Actual: 0\n",
            "Input: 86, Predicted: 3, Actual: 3\n",
            "Input: 87, Predicted: 2, Actual: 2\n",
            "Input: 88, Predicted: 0, Actual: 0\n",
            "Input: 89, Predicted: 6, Actual: 6\n",
            "Input: 90, Predicted: 5, Actual: 5\n",
            "Input: 91, Predicted: 3, Actual: 3\n",
            "Input: 92, Predicted: 6, Actual: 6\n",
            "Input: 93, Predicted: 7, Actual: 7\n",
            "Input: 94, Predicted: 1, Actual: 1\n",
            "Input: 95, Predicted: 8, Actual: 8\n",
            "Input: 96, Predicted: 0, Actual: 0\n",
            "Input: 97, Predicted: 1, Actual: 1\n",
            "Input: 98, Predicted: 4, Actual: 4\n",
            "Input: 99, Predicted: 2, Actual: 2\n",
            "Quantized TF Lite CNN Model Accuracy: 0.7900\n"
          ]
        }
      ],
      "source": [
        "# Enable default optimizations and specify to use int8 for both input and output.\n",
        "converter_cnn.optimizations = [tf.lite.Optimize.DEFAULT]\n",
        "converter_cnn.inference_input_type = tf.int8\n",
        "converter_cnn.inference_output_type = tf.int8\n",
        "\n",
        "# Use real data points to determine quantization parameters.\n",
        "def representative_data_gen():\n",
        "    for sample in x_test[:100]:\n",
        "        yield [sample.reshape(1, 28, 28, 1)]\n",
        "\n",
        "converter_cnn.representative_dataset = representative_data_gen\n",
        "\n",
        "# Restrict operations to int8 (built-ins).\n",
        "converter_cnn.target_spec.supported_ops = [tf.lite.OpsSet.TFLITE_BUILTINS_INT8]\n",
        "\n",
        "# Convert and save the quantized model.\n",
        "quantized_tflite_model_cnn = converter_cnn.convert()\n",
        "quantized_tflite_model_cnn_path = pathlib.Path('quantized_cnn_model.tflite')\n",
        "quantized_write_file_cnn = quantized_tflite_model_cnn_path.write_bytes(quantized_tflite_model_cnn)\n",
        "\n",
        "# Load the quantized model into the interpreter and allocate tensors.\n",
        "quantized_interpreter_cnn = Interpreter(model_path=quantized_tflite_model_cnn_path)\n",
        "quantized_interpreter_cnn.allocate_tensors()\n",
        "\n",
        "quantized_input_details_cnn = quantized_interpreter_cnn.get_input_details()\n",
        "quantized_output_details_cnn = quantized_interpreter_cnn.get_output_details()\n",
        "\n",
        "# Test the quantized model on the same dataset and compute accuracy.\n",
        "correct_predictions_quantized_cnn = 0\n",
        "print(\"Quantized TF Lite CNN Predictions:\")\n",
        "\n",
        "for i, single_input in enumerate(x_test):\n",
        "    single_input = single_input.reshape(1, 28, 28, 1)\n",
        "    input_scale, input_zero_point = quantized_input_details_cnn[0]['quantization']\n",
        "    # Convert float to int8 based on the scale/zero-point.\n",
        "    single_input_quantized = (single_input / input_scale + input_zero_point).astype(\n",
        "        quantized_input_details_cnn[0]['dtype']\n",
        "    )\n",
        "    quantized_interpreter_cnn.set_tensor(quantized_input_details_cnn[0]['index'], single_input_quantized)\n",
        "    quantized_interpreter_cnn.invoke()\n",
        "\n",
        "    output_data = quantized_interpreter_cnn.get_tensor(quantized_output_details_cnn[0]['index'])\n",
        "    prediction = idex_func(output_data)  # Use existing helper to get predicted label.\n",
        "\n",
        "    print(f\"Input: {i}, Predicted: {prediction}, Actual: {y_test[i]}\")\n",
        "\n",
        "    if prediction == y_test[i]:\n",
        "        correct_predictions_quantized_cnn += 1\n",
        "\n",
        "accuracy_quantized_cnn = correct_predictions_quantized_cnn / len(y_test)\n",
        "print(f\"Quantized TF Lite CNN Model Accuracy: {accuracy_quantized_cnn:.4f}\")\n"
      ]
    },
    {
      "cell_type": "code",
      "execution_count": 30,
      "metadata": {},
      "outputs": [
        {
          "name": "stdout",
          "output_type": "stream",
          "text": [
            "Original model size: 0.47 MB\n",
            "Quantized model size: 0.12 MB\n",
            "Size reduction: 73.44%\n"
          ]
        }
      ],
      "source": [
        "# Print a comparison of the original and quantized model sizes on MB\n",
        "print(f\"Original model size: {write_file_cnn / (1024 * 1024):.2f} MB\")\n",
        "print(f\"Quantized model size: {quantized_write_file_cnn / (1024 * 1024):.2f} MB\")\n",
        "\n",
        "# Relative size reduction\n",
        "size_reduction = (write_file_cnn - quantized_write_file_cnn) / write_file_cnn * 100\n",
        "print(f\"Size reduction: {size_reduction:.2f}%\")"
      ]
    },
    {
      "cell_type": "code",
      "execution_count": null,
      "metadata": {},
      "outputs": [
        {
          "name": "stdout",
          "output_type": "stream",
          "text": [
            "Quantization parameters for input tensor:\n",
            "Scale: 0.003921568859368563, Zero Point: -128\n",
            "Quantization parameters for output tensor:\n",
            "Scale: 0.00390625, Zero Point: -128\n",
            "Quantized Model Input Details:\n",
            "{'name': 'serving_default_input_layer_6:0', 'index': 0, 'shape': array([ 1, 28, 28,  1], dtype=int32), 'shape_signature': array([-1, 28, 28,  1], dtype=int32), 'dtype': <class 'numpy.int8'>, 'quantization': (0.003921568859368563, -128), 'quantization_parameters': {'scales': array([0.00392157], dtype=float32), 'zero_points': array([-128], dtype=int32), 'quantized_dimension': 0}, 'sparsity_parameters': {}}\n",
            "Quantized Model Output Details:\n",
            "{'name': 'StatefulPartitionedCall_1:0', 'index': 17, 'shape': array([ 1, 10], dtype=int32), 'shape_signature': array([-1, 10], dtype=int32), 'dtype': <class 'numpy.int8'>, 'quantization': (0.00390625, -128), 'quantization_parameters': {'scales': array([0.00390625], dtype=float32), 'zero_points': array([-128], dtype=int32), 'quantized_dimension': 0}, 'sparsity_parameters': {}}\n"
          ]
        }
      ],
      "source": [
        "# Print the quantization parameters for input and output tensors\n",
        "print(\"Quantization parameters for input tensor:\")\n",
        "print(f\"Scale: {quantized_input_details_cnn[0]['quantization'][0]}, Zero Point: {quantized_input_details_cnn[0]['quantization'][1]}\")\n",
        "print(\"Quantization parameters for output tensor:\")\n",
        "print(f\"Scale: {quantized_output_details_cnn[0]['quantization'][0]}, Zero Point: {quantized_output_details_cnn[0]['quantization'][1]}\")\n",
        "# Print the model's input and output details\n",
        "print(\"Quantized Model Input Details:\")\n",
        "for detail in quantized_input_details_cnn:\n",
        "    print(detail)\n",
        "    \n",
        "print(\"Quantized Model Output Details:\")\n",
        "for detail in quantized_output_details_cnn:\n",
        "    print(detail)\n",
        "\n"
      ]
    },
    {
      "cell_type": "code",
      "execution_count": 49,
      "metadata": {},
      "outputs": [
        {
          "data": {
            "image/png": "[encoded data removed]",
            "text/plain": [
              "<Figure size 1000x500 with 1 Axes>"
            ]
          },
          "metadata": {},
          "output_type": "display_data"
        },
        {
          "name": "stdout",
          "output_type": "stream",
          "text": [
            "Skipping tensor with index 10 due to ValueError.\n",
            "Skipping tensor with index 11 due to ValueError.\n",
            "Skipping tensor with index 12 due to ValueError.\n",
            "Skipping tensor with index 13 due to ValueError.\n",
            "Skipping tensor with index 14 due to ValueError.\n",
            "Skipping tensor with index 15 due to ValueError.\n"
          ]
        },
        {
          "data": {
            "image/png": "[encoded data removed]",
            "text/plain": [
              "<Figure size 1000x500 with 1 Axes>"
            ]
          },
          "metadata": {},
          "output_type": "display_data"
        }
      ],
      "source": [
        "# Graph of the distribution of weights in a Keras model\n",
        "def plot_weight_distribution(model, title):\n",
        "    weights = model.get_weights()\n",
        "    all_weights = np.concatenate([w.flatten() for w in weights])\n",
        "\n",
        "    plt.figure(figsize=(10, 5))\n",
        "    plt.hist(all_weights, bins=50, alpha=0.7, color='blue')\n",
        "    plt.title(title)\n",
        "    plt.xlabel('Weight Value')\n",
        "    plt.ylabel('Frequency')\n",
        "    plt.grid(True)\n",
        "    plt.show()\n",
        "\n",
        "# Plot the weight distribution of the original CNN model\n",
        "plot_weight_distribution(model_cnn, 'Weight Distribution of Original CNN Model')\n",
        "\n",
        "# The TFLite interpreter object cannot use get_weights()\n",
        "# Plot the weight distribution of the quantized CNN model\n",
        "# Load the quantized model weights from the file\n",
        "interpreter_cnn_quantized = tf.lite.Interpreter(model_path=str(quantized_tflite_model_cnn_path))\n",
        "interpreter_cnn_quantized.allocate_tensors()\n",
        "\n",
        "# Extract weights from the quantized model\n",
        "quantized_weights = []\n",
        "for tensor in interpreter_cnn_quantized.get_tensor_details():\n",
        "    if tensor['dtype'] == np.int8 and tensor['index'] >= 0:  # Check if the tensor is of type int8 (quantized weights)\n",
        "        try:\n",
        "            quantized_weights.append(interpreter_cnn_quantized.get_tensor(tensor['index']))\n",
        "        except ValueError:\n",
        "            # Skip tensors that cannot be retrieved\n",
        "            print(f\"Skipping tensor with index {tensor['index']} due to ValueError.\")\n",
        "\n",
        "# Check if quantized_weights is not empty before concatenating\n",
        "if quantized_weights:\n",
        "    all_quantized_weights = np.concatenate([w.flatten() for w in quantized_weights])\n",
        "else:\n",
        "    all_quantized_weights = np.array([])  # Handle the case where no weights are found\n",
        "\n",
        "# Plot the weight distribution of the quantized CNN model\n",
        "plt.figure(figsize=(10, 5))\n",
        "plt.hist(all_quantized_weights, bins=50, alpha=0.7, color='green')\n",
        "plt.title('Weight Distribution of Quantized CNN Model')\n",
        "plt.xlabel('Weight Value')\n",
        "plt.ylabel('Frequency')\n",
        "plt.grid(True)\n",
        "plt.show()"
      ]
    }
  ],
  "metadata": {
    "accelerator": "GPU",
    "colab": {
      "gpuType": "T4",
      "provenance": []
    },
    "kernelspec": {
      "display_name": "Python 3",
      "name": "python3"
    },
    "language_info": {
      "codemirror_mode": {
        "name": "ipython",
        "version": 3
      },
      "file_extension": ".py",
      "mimetype": "text/x-python",
      "name": "python",
      "nbconvert_exporter": "python",
      "pygments_lexer": "ipython3",
      "version": "3.12.1"
    }
  },
  "nbformat": 4,
  "nbformat_minor": 0
}
